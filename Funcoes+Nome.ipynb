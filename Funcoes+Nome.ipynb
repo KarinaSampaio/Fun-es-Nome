{
 "cells": [
  {
   "metadata": {},
   "cell_type": "markdown",
   "source": "## Função para Calcular o Fatorial de um Número\n",
   "id": "dd849799488a4989"
  },
  {
   "metadata": {
    "ExecuteTime": {
     "end_time": "2024-06-14T00:04:40.336929Z",
     "start_time": "2024-06-14T00:04:40.303564Z"
    }
   },
   "cell_type": "code",
   "source": [
    "def calcular_fatorial(n):\n",
    "    \"\"\"\n",
    "    Calcula o fatorial de um número n.\n",
    "    \n",
    "    Parâmetros:\n",
    "    n (int): O número para calcular o fatorial. Deve ser um número inteiro não-negativo.\n",
    "    \n",
    "    Retorna:\n",
    "    int: O fatorial de n.\n",
    "    \"\"\"\n",
    "    if n < 0:\n",
    "        raise ValueError(\"O número deve ser não-negativo\")\n",
    "    elif n == 0 or n == 1:\n",
    "        return 1\n",
    "    else:\n",
    "        fatorial = 1\n",
    "        for i in range(2, n + 1):\n",
    "            fatorial *= i\n",
    "        return fatorial\n",
    "\n",
    "# Testando a função calcular_fatorial\n",
    "print(\"Fatorial de 5:\", calcular_fatorial(5))  # Deve retornar 120\n",
    "print(\"Fatorial de 0:\", calcular_fatorial(0))  # Deve retornar 1\n"
   ],
   "id": "8e62e47e54f8f89f",
   "outputs": [
    {
     "name": "stdout",
     "output_type": "stream",
     "text": [
      "Fatorial de 5: 120\n",
      "Fatorial de 0: 1\n"
     ]
    }
   ],
   "execution_count": 1
  },
  {
   "metadata": {},
   "cell_type": "markdown",
   "source": "## Função para Calcular a Soma de uma Série",
   "id": "74e3c1d9703b7c30"
  },
  {
   "metadata": {
    "ExecuteTime": {
     "end_time": "2024-06-14T00:08:29.004662Z",
     "start_time": "2024-06-14T00:08:28.993480Z"
    }
   },
   "cell_type": "code",
   "source": [
    "def calcular_soma_serie(inicio, fim):\n",
    "    \"\"\"\n",
    "    Calcula a soma de uma série de números começando por 'inicio' e terminando em 'fim'.\n",
    "    \n",
    "    Parâmetros:\n",
    "    inicio (int): O número inicial da série.\n",
    "    fim (int): O número final da série. Deve ser maior que 'inicio'.\n",
    "    \n",
    "    Retorna:\n",
    "    int: A soma da série.\n",
    "    \"\"\"\n",
    "    if fim <= inicio:\n",
    "        raise ValueError(\"O número final deve ser maior que o número inicial\")\n",
    "    \n",
    "    soma = 0\n",
    "    for i in range(inicio, fim + 1):\n",
    "        soma += i\n",
    "    return soma\n",
    "\n",
    "# Testando a função calcular_soma_serie\n",
    "print(\"Soma da série de 1 a 5:\", calcular_soma_serie(1, 5))  # Deve retornar 15 (1 + 2 + 3 + 4 + 5)\n",
    "print(\"Soma da série de 10 a 20:\", calcular_soma_serie(10, 20))  # Deve retornar 165\n"
   ],
   "id": "80b43c65935f7578",
   "outputs": [
    {
     "name": "stdout",
     "output_type": "stream",
     "text": [
      "Soma da série de 1 a 5: 15\n",
      "Soma da série de 10 a 20: 165\n"
     ]
    }
   ],
   "execution_count": 2
  },
  {
   "metadata": {},
   "cell_type": "markdown",
   "source": "",
   "id": "7fc62da8a516f2aa"
  },
  {
   "metadata": {},
   "cell_type": "markdown",
   "source": "",
   "id": "ffaee079136c433"
  }
 ],
 "metadata": {
  "kernelspec": {
   "display_name": "Python 3",
   "language": "python",
   "name": "python3"
  },
  "language_info": {
   "codemirror_mode": {
    "name": "ipython",
    "version": 2
   },
   "file_extension": ".py",
   "mimetype": "text/x-python",
   "name": "python",
   "nbconvert_exporter": "python",
   "pygments_lexer": "ipython2",
   "version": "2.7.6"
  }
 },
 "nbformat": 4,
 "nbformat_minor": 5
}
